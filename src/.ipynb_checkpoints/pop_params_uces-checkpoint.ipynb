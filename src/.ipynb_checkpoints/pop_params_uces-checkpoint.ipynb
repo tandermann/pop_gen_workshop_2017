{
 "cells": [
  {
   "cell_type": "code",
   "execution_count": 1,
   "metadata": {
    "collapsed": false
   },
   "outputs": [],
   "source": [
    "import sys\n",
    "sys.path\n",
    "sys.path.append(\"src/\")\n",
    "from estimate_pop_parameters import *\n",
    "import calculate_theta_from_fastsimcoal_output as fscoal"
   ]
  },
  {
   "cell_type": "markdown",
   "metadata": {},
   "source": [
    "# 1. Estimating population parameters from UCE allele alignments\n",
    "Here I wrote some functions that help extracting useful summary statistics from UCE allele alignments and plotting them."
   ]
  },
  {
   "cell_type": "markdown",
   "metadata": {},
   "source": [
    "### 1. Getting all variable positions from allele alignments\n",
    "The underlying data are multiple sequence alignments containing the UCE allele sequences of 10 diploid individuals (=20 sequences). The data looks like this:"
   ]
  },
  {
   "cell_type": "code",
   "execution_count": null,
   "metadata": {
    "collapsed": false
   },
   "outputs": [],
   "source": [
    "%%bash\n",
    "ls ../data/topaza-uce-allele-alignments/ | head -n 10"
   ]
  },
  {
   "cell_type": "code",
   "execution_count": null,
   "metadata": {
    "collapsed": false
   },
   "outputs": [],
   "source": [
    "%%bash\n",
    "head -n 60 ../data/topaza-uce-allele-alignments/uce-101_phased.fasta"
   ]
  },
  {
   "cell_type": "markdown",
   "metadata": {},
   "source": [
    "Before we continue we need to define a few variables:"
   ]
  },
  {
   "cell_type": "code",
   "execution_count": null,
   "metadata": {
    "collapsed": true
   },
   "outputs": [],
   "source": [
    "input_dir = '../data/topaza-uce-allele-alignments'\n",
    "aln_format = 'fasta'\n",
    "min_num_seqs = 20\n",
    "output_dir = '../results/plots'\n",
    "outgroup = 'Florisuga'"
   ]
  },
  {
   "cell_type": "markdown",
   "metadata": {},
   "source": [
    "Now we want to know which positions in the alignments contain polymorphisms and have data for all sequences. The following function does exactly that:"
   ]
  },
  {
   "cell_type": "code",
   "execution_count": null,
   "metadata": {
    "collapsed": false
   },
   "outputs": [],
   "source": [
    "# get a list of all alignments\n",
    "alignment_list = read_aln_in_folder(input_dir,aln_format)\n",
    "# return a dictionary of all positions with missing data and another one only containing variable positions without missing data\n",
    "valid_columns, snp_columns, removed_seqs = get_variable_positions(alignment_list,aln_format,min_num_seqs,outgroup)\n",
    "print('done')"
   ]
  },
  {
   "cell_type": "markdown",
   "metadata": {},
   "source": [
    "The resulting dictionary 'snp_columns' contains a list of all variable positions for each locus, here is a small excerpt:"
   ]
  },
  {
   "cell_type": "code",
   "execution_count": null,
   "metadata": {
    "collapsed": false,
    "scrolled": true
   },
   "outputs": [],
   "source": [
    "dict(list(snp_columns.items())[0:10])"
   ]
  },
  {
   "cell_type": "markdown",
   "metadata": {},
   "source": [
    "From these variable positions (=SNPs) we eventually want to estimate theta, using Tajima's estimator. For this we need to compare every pair of sequences and count all differences and then divide by the total number of pairwise comparisons. Here we retrieve the total number of pairwise differences for our 20 sequences (minus all sequences which represent outgroup seqeunces and were removed by the previous function):"
   ]
  },
  {
   "cell_type": "code",
   "execution_count": null,
   "metadata": {
    "collapsed": false
   },
   "outputs": [],
   "source": [
    "possible_combos = get_possible_combinations_for_n_sequences(int(min_num_seqs)-int(removed_seqs))\n",
    "print(possible_combos)"
   ]
  },
  {
   "cell_type": "markdown",
   "metadata": {},
   "source": [
    "However, making all these pairwise comparisons can take an aweful long time. Here we use a shortcut, only comparing those positions which we have previously identified to be polymorphic and calculating how many pairwise differences would return a difference, based on the frequency of the SNP. Tajima's estimator is then calculated for each locus and corrected for the total alignment length."
   ]
  },
  {
   "cell_type": "code",
   "execution_count": null,
   "metadata": {
    "collapsed": false
   },
   "outputs": [],
   "source": [
    "locus_tajima_dict,locus_snp_count_dict = tajimas_estimator_per_locus(input_dir,aln_format,snp_columns,valid_columns,min_num_seqs,outgroup,possible_combos)\n",
    "dict(list(locus_tajima_dict.items())[0:10])"
   ]
  },
  {
   "cell_type": "markdown",
   "metadata": {},
   "source": [
    "Now let's plot the calculated thetas for all loci and calculate the expected fraction of heterozygos sites within the ingroup:"
   ]
  },
  {
   "cell_type": "code",
   "execution_count": null,
   "metadata": {
    "collapsed": false
   },
   "outputs": [],
   "source": [
    "plot_expected_heterozyosity(locus_tajima_dict,output_dir)"
   ]
  },
  {
   "cell_type": "markdown",
   "metadata": {},
   "source": [
    "We are also interested in the site frequency spectrum (SFS) across all loci within our ingroup. We can use the outgroup in order to guess which allele is the original state and which is the derived one. The function follows the following logic:\n",
    "\n",
    "A) determine the ancestral state at each polymorphism:\n",
    "    1. if outgroup allele also present in ingroup, take it as ancestral state\n",
    "    2. if outgroup allele not present in ingroup, choose the most common ingroup allele as ancestral\n",
    "    3. if all allele copies are equally common, choose one at random as ancestral\n",
    "B) for all derived mutations, count by how many sequences those are shared"
   ]
  },
  {
   "cell_type": "code",
   "execution_count": null,
   "metadata": {
    "collapsed": false
   },
   "outputs": [],
   "source": [
    "locus_derived_allele_counts_dict = get_fsf_stats(input_dir,aln_format,outgroup,locus_snp_count_dict)\n",
    "dict(list(locus_derived_allele_counts_dict.items())[0:10])"
   ]
  },
  {
   "cell_type": "markdown",
   "metadata": {},
   "source": [
    "Now join all these values for each single locus into one global list and plot it as a histogram:"
   ]
  },
  {
   "cell_type": "code",
   "execution_count": null,
   "metadata": {
    "collapsed": false
   },
   "outputs": [],
   "source": [
    "join_and_plot_sfs_data(locus_derived_allele_counts_dict,output_dir)"
   ]
  },
  {
   "cell_type": "markdown",
   "metadata": {},
   "source": [
    "## Estimating theta from fastsimcoal sequence simulation output\n",
    "In the course we applied abc methods to estimate theta from simulated data. Here I calculate theta using the Tajima estimator instead:"
   ]
  },
  {
   "cell_type": "code",
   "execution_count": 4,
   "metadata": {
    "collapsed": false
   },
   "outputs": [
    {
     "name": "stdout",
     "output_type": "stream",
     "text": [
      "tajima estimated log(theta) = -2.666712\n",
      "real log(theta) = -2.698970\n"
     ]
    },
    {
     "data": {
      "image/png": "[encoded data removed]",
      "text/plain": [
       "<matplotlib.figure.Figure at 0x115b55198>"
      ]
     },
     "metadata": {},
     "output_type": "display_data"
    }
   ],
   "source": [
    "simcoal_out = '/Users/tobias/GitHub/abc_modeling_course_tjarno_2017/data/constsize_obs_1_1.arp'\n",
    "alignment, num_seqs , input_dir, snp_length, alignment_length, mutation_rate, n_alleles = fscoal.convert_simcoal_output_to_fasta(simcoal_out)\n",
    "possible_combos = get_possible_combinations_for_n_sequences(num_seqs)\n",
    "aln_format = 'fasta'\n",
    "min_num_seqs = num_seqs\n",
    "outgroup = ''\n",
    "name = alignment.split('/')[-1]\n",
    "\n",
    "snp_columns = {}\n",
    "snp_positions = list(range(0,snp_length))\n",
    "snp_columns.setdefault(name,snp_positions)\n",
    "\n",
    "valid_columns = {}\n",
    "all_positions = list(range(0,alignment_length))\n",
    "valid_columns.setdefault(name,all_positions)\n",
    "\n",
    "locus_tajima_dict,locus_snp_count_dict = tajimas_estimator_per_locus(input_dir,aln_format,snp_columns,valid_columns,min_num_seqs,outgroup,possible_combos)\n",
    "tajima = locus_tajima_dict[name]\n",
    "\n",
    "print('tajima estimated log(theta) = %f'%math.log10(tajima))\n",
    "print('real log(theta) = %f'%math.log10(2*n_alleles*mutation_rate))\n",
    "\n",
    "plot_expected_heterozyosity(locus_tajima_dict,input_dir)"
   ]
  },
  {
   "cell_type": "code",
   "execution_count": null,
   "metadata": {
    "collapsed": false
   },
   "outputs": [],
   "source": [
    "snp_columns"
   ]
  },
  {
   "cell_type": "code",
   "execution_count": null,
   "metadata": {
    "collapsed": true
   },
   "outputs": [],
   "source": []
  },
  {
   "cell_type": "code",
   "execution_count": null,
   "metadata": {
    "collapsed": true
   },
   "outputs": [],
   "source": []
  },
  {
   "cell_type": "markdown",
   "metadata": {
    "collapsed": true
   },
   "source": [
    "[Overview](../main.ipynb) | [2. Expectation value](./expected_value.ipynb)"
   ]
  }
 ],
 "metadata": {
  "kernelspec": {
   "display_name": "Python 3",
   "language": "python",
   "name": "python3"
  },
  "language_info": {
   "codemirror_mode": {
    "name": "ipython",
    "version": 3
   },
   "file_extension": ".py",
   "mimetype": "text/x-python",
   "name": "python",
   "nbconvert_exporter": "python",
   "pygments_lexer": "ipython3",
   "version": "3.6.0"
  }
 },
 "nbformat": 4,
 "nbformat_minor": 2
}
