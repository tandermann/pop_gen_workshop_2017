{
 "cells": [
  {
   "cell_type": "code",
   "execution_count": 1,
   "metadata": {
    "collapsed": false
   },
   "outputs": [],
   "source": [
    "import sys\n",
    "sys.path\n",
    "sys.path.append(\"src/\")\n",
    "from estimate_pop_parameters import *"
   ]
  },
  {
   "cell_type": "markdown",
   "metadata": {},
   "source": [
    "# Demographic inference workshop\n",
    "\n",
    "This is a loose collection of notes from the exercises and side projects that I worked on related to the course content."
   ]
  },
  {
   "cell_type": "markdown",
   "metadata": {},
   "source": [
    "## Estimating population parameters from UCE allele alignments\n",
    "Here I wrote some functions that help extracting useful summary statistics from UCE allele alignments and plotting them."
   ]
  },
  {
   "cell_type": "markdown",
   "metadata": {},
   "source": [
    "### 1. Getting all variable positions from allele alignments\n",
    "The underlying data are multiple sequence alignments containing the UCE allele sequences of 10 diploid individuals (=20 sequences). The data looks like this:"
   ]
  },
  {
   "cell_type": "code",
   "execution_count": 2,
   "metadata": {
    "collapsed": false
   },
   "outputs": [
    {
     "name": "stdout",
     "output_type": "stream",
     "text": [
      "uce-101_phased.fasta\n",
      "uce-1035_phased.fasta\n",
      "uce-1038_phased.fasta\n",
      "uce-103_phased.fasta\n",
      "uce-1043_phased.fasta\n",
      "uce-1055_phased.fasta\n",
      "uce-1061_phased.fasta\n",
      "uce-1064_phased.fasta\n",
      "uce-1068_phased.fasta\n",
      "uce-1069_phased.fasta\n"
     ]
    }
   ],
   "source": [
    "%%bash\n",
    "ls data/topaza-uce-allele-alignments/ | head -n 10"
   ]
  },
  {
   "cell_type": "code",
   "execution_count": 3,
   "metadata": {
    "collapsed": false
   },
   "outputs": [
    {
     "name": "stdout",
     "output_type": "stream",
     "text": [
      ">T_pella7_0\n",
      "NNNNNNNNNNNNNNNNNNNNNNNNNNNNNNNNNNNNNNNNNNNGCAGTTACATTCTTGTT\n",
      "GAACAAATCAATTAAATATACACTATACTGCATCTTTACACTGTATAATGTTGGGGGGTT\n",
      "TTTGTGCTGAAGCAGTCTTGTACAGCTGGAC-AAAAAAAAATCCCTAGGAGGGTTCAGAG\n",
      "ACCAGTTTAAGCTATGAGTTTTTGTAGTATCGGCAGCAACGGTAAACAATTCAGAAAATC\n",
      "TGAGATGTTAAAGGGAAGGGAGGGACAGGGCTCTGCTGGTTTCAGTGCTTCTAAGGCTTG\n",
      "GGCTTTATTTCCACCTTAAAATCTTTACCTGACCATGATCTGTTGTTCCATTACTGGAGG\n",
      "GCAAAAATGGGAGGAATTGTCTGGGCTAAATTGCAATTAGCCAGCCCTGAGAGAGGCTGG\n",
      "CACCAGTTAACTTGGGATATTGGAGTGAAAAGGCCCGTAATCAGCCTTCGGTCATGTAGA\n",
      "ACAATGCATAAAATTAAATTGACATTAATGAATAATTGTGTAATGAAAATGGAAGAGGAG\n",
      "AGTTAATTGCATGTTACAGTGAGTGTAATGCCTAGATAACCTTGCATTTAATGCTATTCT\n",
      "TAGCCCTGCTGCCAAGACTTCTACAGAGCCTCTCTCTGCAGGAAGTCATTAAAGCTGTGA\n",
      "GTAGATAATGCAGGCTCAGTGAAACCTAAGTGGCAACAATATAACAAGAGTTTCTTTCAG\n",
      "ACCTTAGTGTTTTCAGAAAAAAGGGGCATGTTGAGGTAATTTGTACACATCGAAATGAAA\n",
      "ACAGGAAACTCGGAGCAATCTATTTGTAGTTTGTCCAGTTCCACAGAATTTTCAACTTGT\n",
      "GTTGAAACTGAAGTTAATTCATATAATCAAAGACAAGACTAGCCATCAATGCTTGCAACA\n",
      "CAGTAAGCATCCAGCTGTCTACAGATAAAACTTTGTTTTGTTAATCACCTACTACAGCAA\n",
      "AGGATATAAANNNNNNNNNNNNNNNNNNNNNNNNNNNNNNNNNNNNNNNNNNNNNNNNNN\n",
      "NNNNNNNNNNNNNNNNNNNNNNNNNNNNNNNNNNNNNNN\n",
      ">T_pella7_1\n",
      "NNNNNNNNNNNNNNNNNNNNNNNNNNNNNNNNNNNNNNNNNNNNNNNNNNNNNNNNNNNN\n",
      "NNNNNNNNNNNNNNNNNNNNNNNNNNNNNNNNNNNNNNNNNNNNNNNNNNNNNNNNGGTT\n",
      "TTTGTGCTGAAGCAGTCTTGTACAGCTGGAC-AAAAAAAAATCCCTAGGAGGGTTCAGAG\n",
      "ACCAGTTTAAGCTATGAGTTTTTGTAGTATCGGCAGCTACGGTAAACAATTCAGAAAATC\n",
      "TGAGATGTTAAAGGGAAGGGAGGGACAGGGCTCTGCTGGTTTCAGTGCTTCTAAGGCTTG\n",
      "GGCTTTATTTCCACCTTAAAATCTTTACCTGACCATGATCTGTTGTTCCATTACTGGAGG\n",
      "GCAAAAATGGGAGGAATTGTCTGGGCTAAATTGCAATTAGCCAGCCCTGAGAGAGGCTGG\n",
      "CACCAGTTAACTTGGGATATTGGAGTGAAAAGGCCCGTAATCAGCCTTCGGTCATGTAGA\n",
      "ACAATGCATAAAATTAAATTGACATTAATGAATAATTGTGTAATGAAAATGGAAGAGGAG\n",
      "AGTTAATTGCATGTTACAGTGAGTGTAATGCCTAGATAACCTTGCATTTAATGCTATTCT\n",
      "TAGCCCTGCTGCCAAGACTTCTACAGAGCCTCTCTCTGCAGGAAGTCATTAAAGCTGTGA\n",
      "GTAGATAATGCAGGCTCAGTGAAACCTAAGTGGCAACAATATAACAAGAGTTTCTTTCAG\n",
      "ACCTTAGTGTTTTCAGAAAAAAGGGGCATGTTGAGGTAATTTGTACACATCGAAATGAAA\n",
      "ACAGGAAACTCGGAGCAATCTATTTGTAGTTTGTCCAGTTCCACAGAATTTTCAACTTGT\n",
      "GTTGAAACTGAAGTTAATTCATATAATCAAAGACAAGACTAGCCATCAATGCTTGCAACA\n",
      "CAGTAAGCATCCAGCTGTCTACAGATAAAACTTTGTTNNNNNNNNNNNNNNNNNNNNNNN\n",
      "NNNNNNNNNNNNNNNNNNNNNNNNNNNNNNNNNNNNNNNNNNNNNNNNNNNNNNNNNNNN\n",
      "NNNNNNNNNNNNNNNNNNNNNNNNNNNNNNNNNNNNNNN\n",
      ">T_pyra3_0\n",
      "NNNNNNNNNNNNNNNNNNNNNNNNNNNNNNNNNNNNNNNNNNNNNNNNNNNNNNNNNNNN\n",
      "NNNNNNNNNNNNNNNNNNNNNNNNNNNNNNNNNNNNNNNNNNNNNNNNNNNNNNNNNNNN\n",
      "NNNNNNNNNNNNNNNNNNNNNNNNNNNNNNNNNNNNNNNNNNNNNNNNNNNNNNNNNNNN\n",
      "NNNNNNNNNNNNNNNNNNNNNNNNNNNNNNNNNNNNNNNNNNNNNNNNNNNNNNNNNNNN\n",
      "NNNNNTGTTAAAGGGAAGGGAGGGACAGGGCTCTGCTGGTTTCAGTGCTTCTAAGGCTTG\n",
      "GGCTTTATTTCCACCTTAAAATCTTTACCTGACCATGATCTGTTGTTCCATTACTGGAGG\n",
      "GCAAAAATGGGAGGAATTGTCTGGGCTAAATTGCAATTAGCCAGCCCTGAGAGAGGCTGG\n",
      "CACCAGTTAACTTGGGATATTGGAGTGAAAAGGCCCGTAATCAGCCTTCGGTCATGTAGA\n",
      "ACAATGCATAAAATTAAATTGACATTAATGAATAATTGTGTAATGAAAATGGAAGAGGAG\n",
      "AGTTAATTGCATGTTACAGTGAGTGTAATGCCTAGATAACCTTGCATTTAATGCTATTCT\n",
      "TAGCCCTGCTGCCAAGACTTCTACAGAGCCTCTCTCTGCAGGAAGTCATTAAAGCTGTGA\n",
      "GTAGATAATGCAGGCTCAGTGAAACCTAAGTGGCAACAATATAACAAGAGTTTCTTTCAG\n",
      "ACCTTAGTGTTTTCAGAAAAAAGGGGCATGTTGAGGTAATTTGTACACATCGGAATGGAA\n",
      "ACAGGAAACTCGGAGCAATCTATTTGTAGTTTGTCCAGTTCCACAGAATTTTCAACTTGT\n",
      "GTTGAAACTGAAGTTAATTCATATAATCAAAGACAAGACTAGCCATCAATGCTTGCAACA\n",
      "CAGTAAGCATCCAGCTGTCTACAGATAAAACTTTGTTTTGTTAATCACCTACTACAGCAA\n",
      "AGGATATAAAACACTTGACCTTAGACATTAGACAGCAGTGGGAGACATCTTCAGCACTAT\n",
      "CCTATTGACACAGCTGGTTTGTGCTNNNNNNNNNNNNNN\n",
      ">T_pyra3_1\n",
      "NNNNNNNNNNNNNNNNNNNNNNNNNNNNNNNNNNNNNNNNNNNNNNNNNNNNNNNNNNNN\n",
      "NNNNNNNNNNNNNNNNNNNNNNNNNNNNNNNNNNNNNNNNNNNNNNNNNNNNNNNNNNNN\n"
     ]
    }
   ],
   "source": [
    "%%bash\n",
    "head -n 60 data/topaza-uce-allele-alignments/uce-101_phased.fasta"
   ]
  },
  {
   "cell_type": "markdown",
   "metadata": {},
   "source": [
    "Before we continue we need to define a few variables:"
   ]
  },
  {
   "cell_type": "code",
   "execution_count": 4,
   "metadata": {
    "collapsed": true
   },
   "outputs": [],
   "source": [
    "input_dir = './data/topaza-uce-allele-alignments'\n",
    "aln_format = 'fasta'\n",
    "min_num_seqs = 20\n",
    "output_dir = './results/plots'\n",
    "outgroup = 'Florisuga'"
   ]
  },
  {
   "cell_type": "markdown",
   "metadata": {},
   "source": [
    "Now we want to know which positions in the alignments contain polymorphisms and have data for all sequences. The following function does exactly that:"
   ]
  },
  {
   "cell_type": "code",
   "execution_count": 5,
   "metadata": {
    "collapsed": false
   },
   "outputs": [
    {
     "name": "stdout",
     "output_type": "stream",
     "text": [
      "done\n"
     ]
    }
   ],
   "source": [
    "# get a list of all alignments\n",
    "alignment_list = read_aln_in_folder(input_dir,aln_format)\n",
    "# return a dictionary of all positions with missing data and another one only containing variable positions without missing data\n",
    "valid_columns, snp_columns, removed_seqs = get_variable_positions(alignment_list,aln_format,min_num_seqs,outgroup)\n",
    "print('done')"
   ]
  },
  {
   "cell_type": "markdown",
   "metadata": {},
   "source": [
    "The resulting dictionary 'snp_columns' contains a list of all variable positions for each locus, here is a small excerpt:"
   ]
  },
  {
   "cell_type": "code",
   "execution_count": 14,
   "metadata": {
    "collapsed": false,
    "scrolled": true
   },
   "outputs": [
    {
     "data": {
      "text/plain": [
       "{'uce-101_phased.fasta': [621, 707, 777, 862, 868, 888],\n",
       " 'uce-1035_phased.fasta': [135, 141, 148, 288, 308, 410, 528],\n",
       " 'uce-103_phased.fasta': [62, 224, 394],\n",
       " 'uce-1064_phased.fasta': [765],\n",
       " 'uce-1068_phased.fasta': [451, 528, 720],\n",
       " 'uce-1069_phased.fasta': [628],\n",
       " 'uce-1162_phased.fasta': [737, 753, 839],\n",
       " 'uce-1170_phased.fasta': [116, 144, 201, 280, 420, 633],\n",
       " 'uce-1177_phased.fasta': [164, 219, 221, 225, 226, 228, 277, 300, 440],\n",
       " 'uce-117_phased.fasta': [240, 241, 244, 438, 800, 845]}"
      ]
     },
     "execution_count": 14,
     "metadata": {},
     "output_type": "execute_result"
    }
   ],
   "source": [
    "dict(list(snp_columns.items())[0:10])"
   ]
  },
  {
   "cell_type": "markdown",
   "metadata": {},
   "source": [
    "From these variable positions (=SNPs) we eventually want to estimate theta, using Tajima's estimator. For this we need to compare every pair of sequences and count all differences and then divide by the total number of pairwise comparisons. Here we retrieve the total number of pairwise differences for our 20 sequences (minus all sequences which represent outgroup seqeunces and were removed by the previous function):"
   ]
  },
  {
   "cell_type": "code",
   "execution_count": 7,
   "metadata": {
    "collapsed": false
   },
   "outputs": [
    {
     "name": "stdout",
     "output_type": "stream",
     "text": [
      "[(0, 1), (0, 2), (0, 3), (0, 4), (0, 5), (0, 6), (0, 7), (0, 8), (0, 9), (0, 10), (0, 11), (0, 12), (0, 13), (0, 14), (0, 15), (0, 16), (0, 17), (1, 2), (1, 3), (1, 4), (1, 5), (1, 6), (1, 7), (1, 8), (1, 9), (1, 10), (1, 11), (1, 12), (1, 13), (1, 14), (1, 15), (1, 16), (1, 17), (2, 3), (2, 4), (2, 5), (2, 6), (2, 7), (2, 8), (2, 9), (2, 10), (2, 11), (2, 12), (2, 13), (2, 14), (2, 15), (2, 16), (2, 17), (3, 4), (3, 5), (3, 6), (3, 7), (3, 8), (3, 9), (3, 10), (3, 11), (3, 12), (3, 13), (3, 14), (3, 15), (3, 16), (3, 17), (4, 5), (4, 6), (4, 7), (4, 8), (4, 9), (4, 10), (4, 11), (4, 12), (4, 13), (4, 14), (4, 15), (4, 16), (4, 17), (5, 6), (5, 7), (5, 8), (5, 9), (5, 10), (5, 11), (5, 12), (5, 13), (5, 14), (5, 15), (5, 16), (5, 17), (6, 7), (6, 8), (6, 9), (6, 10), (6, 11), (6, 12), (6, 13), (6, 14), (6, 15), (6, 16), (6, 17), (7, 8), (7, 9), (7, 10), (7, 11), (7, 12), (7, 13), (7, 14), (7, 15), (7, 16), (7, 17), (8, 9), (8, 10), (8, 11), (8, 12), (8, 13), (8, 14), (8, 15), (8, 16), (8, 17), (9, 10), (9, 11), (9, 12), (9, 13), (9, 14), (9, 15), (9, 16), (9, 17), (10, 11), (10, 12), (10, 13), (10, 14), (10, 15), (10, 16), (10, 17), (11, 12), (11, 13), (11, 14), (11, 15), (11, 16), (11, 17), (12, 13), (12, 14), (12, 15), (12, 16), (12, 17), (13, 14), (13, 15), (13, 16), (13, 17), (14, 15), (14, 16), (14, 17), (15, 16), (15, 17), (16, 17)]\n"
     ]
    }
   ],
   "source": [
    "possible_combos = get_possible_combinations_for_n_sequences(int(min_num_seqs)-int(removed_seqs))\n",
    "print(possible_combos)"
   ]
  },
  {
   "cell_type": "markdown",
   "metadata": {},
   "source": [
    "However, making all these pairwise comparisons can take an aweful long time. Here we use a shortcut, only comparing those positions which we have previously identified to be polymorphic and calculating how many pairwise differences would return a difference, based on the frequency of the SNP. Tajima's estimator is then calculated for each locus and corrected for the total alignment length."
   ]
  },
  {
   "cell_type": "code",
   "execution_count": 15,
   "metadata": {
    "collapsed": false
   },
   "outputs": [
    {
     "data": {
      "text/plain": [
       "{'uce-101_phased.fasta': 0.003046832768194997,\n",
       " 'uce-1035_phased.fasta': 0.0032303026878378635,\n",
       " 'uce-103_phased.fasta': 0.0008747606786822473,\n",
       " 'uce-1064_phased.fasta': 0.000449034575662326,\n",
       " 'uce-1068_phased.fasta': 0.0019147866457002879,\n",
       " 'uce-1069_phased.fasta': 0.0005838563713326521,\n",
       " 'uce-1162_phased.fasta': 0.0016213203627704312,\n",
       " 'uce-1170_phased.fasta': 0.003245742741541061,\n",
       " 'uce-1177_phased.fasta': 0.006695361071257772,\n",
       " 'uce-117_phased.fasta': 0.0030582916526026164}"
      ]
     },
     "execution_count": 15,
     "metadata": {},
     "output_type": "execute_result"
    }
   ],
   "source": [
    "locus_tajima_dict,locus_snp_count_dict = tajimas_estimator_per_locus(input_dir,aln_format,snp_columns,valid_columns,min_num_seqs,outgroup,possible_combos)\n",
    "dict(list(locus_tajima_dict.items())[0:10])"
   ]
  },
  {
   "cell_type": "markdown",
   "metadata": {},
   "source": [
    "Now let's plot the calculated thetas for all loci and calculate the expected fraction of heterozygos sites within the ingroup:"
   ]
  },
  {
   "cell_type": "code",
   "execution_count": 16,
   "metadata": {
    "collapsed": false
   },
   "outputs": [
    {
     "data": {
      "image/png": "[encoded data removed]",
      "text/plain": [
       "<matplotlib.figure.Figure at 0x114f07b38>"
      ]
     },
     "metadata": {},
     "output_type": "display_data"
    }
   ],
   "source": [
    "plot_expected_heterozyosity(locus_tajima_dict,output_dir)"
   ]
  },
  {
   "cell_type": "markdown",
   "metadata": {},
   "source": [
    "We are also interested in the site frequency spectrum (SFS) across all loci within our ingroup. We can use the outgroup in order to guess which allele is the original state and which is the derived one. The function follows the following logic:\n",
    "\n",
    "A) determine the ancestral state at each polymorphism:\n",
    "    1. if outgroup allele also present in ingroup, take it as ancestral state\n",
    "    2. if outgroup allele not present in ingroup, choose the most common ingroup allele as ancestral\n",
    "    3. if all allele copies are equally common, choose one at random as ancestral\n",
    "B) for all derived mutations, count by how many sequences those are shared"
   ]
  },
  {
   "cell_type": "code",
   "execution_count": 17,
   "metadata": {
    "collapsed": false
   },
   "outputs": [
    {
     "data": {
      "text/plain": [
       "{'uce-101_phased.fasta': [1, 1, 7, 1, 1, 1],\n",
       " 'uce-1035_phased.fasta': [1, 8, 1, 1, 3, 1, 2],\n",
       " 'uce-103_phased.fasta': [2, 1, 1],\n",
       " 'uce-1064_phased.fasta': [2],\n",
       " 'uce-1068_phased.fasta': [2, 2, 1],\n",
       " 'uce-1069_phased.fasta': [2],\n",
       " 'uce-1162_phased.fasta': [2, 2, 2],\n",
       " 'uce-1170_phased.fasta': [3, 2, 3, 1, 2, 1],\n",
       " 'uce-1177_phased.fasta': [16, 1, 1, 1, 1, 1, 5, 1, 1],\n",
       " 'uce-117_phased.fasta': [17, 1, 1, 1, 7, 2]}"
      ]
     },
     "execution_count": 17,
     "metadata": {},
     "output_type": "execute_result"
    }
   ],
   "source": [
    "locus_derived_allele_counts_dict = get_fsf_stats(input_dir,aln_format,outgroup,locus_snp_count_dict)\n",
    "dict(list(locus_derived_allele_counts_dict.items())[0:10])"
   ]
  },
  {
   "cell_type": "markdown",
   "metadata": {},
   "source": [
    "Now join all these values for each single locus into one global list and plot it as a histogram:"
   ]
  },
  {
   "cell_type": "code",
   "execution_count": 18,
   "metadata": {
    "collapsed": false
   },
   "outputs": [
    {
     "data": {
      "image/png": "[encoded data removed]",
      "text/plain": [
       "<matplotlib.figure.Figure at 0x114f46278>"
      ]
     },
     "metadata": {},
     "output_type": "display_data"
    }
   ],
   "source": [
    "join_and_plot_sfs_data(locus_derived_allele_counts_dict,output_dir)"
   ]
  },
  {
   "cell_type": "code",
   "execution_count": null,
   "metadata": {
    "collapsed": true
   },
   "outputs": [],
   "source": []
  }
 ],
 "metadata": {
  "kernelspec": {
   "display_name": "Python 3",
   "language": "python",
   "name": "python3"
  },
  "language_info": {
   "codemirror_mode": {
    "name": "ipython",
    "version": 3
   },
   "file_extension": ".py",
   "mimetype": "text/x-python",
   "name": "python",
   "nbconvert_exporter": "python",
   "pygments_lexer": "ipython3",
   "version": "3.6.0"
  }
 },
 "nbformat": 4,
 "nbformat_minor": 2
}
